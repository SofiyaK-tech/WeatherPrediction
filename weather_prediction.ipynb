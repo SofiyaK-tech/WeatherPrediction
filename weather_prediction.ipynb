{
  "cells": [
    {
      "cell_type": "code",
      "source": [
        "import pandas as pd\n",
        "import numpy as ny\n",
        "import seaborn as sns\n",
        "import matplotlib.pyplot as plt\n",
        "from sklearn.ensemble import RandomForestClassifier\n",
        "from sklearn.metrics import classification_report,confusion_matrix\n",
        "from sklearn.model_selection import train_test_split, GridSearchCV, cross_val_score\n",
        "from sklearn.preprocessing import StandardScaler, LabelEncoder\n",
        "%matplotlib inline\n"
      ],
      "metadata": {
        "id": "Q6-c-A65wKiN"
      },
      "execution_count": null,
      "outputs": []
    },
    {
      "cell_type": "code",
      "execution_count": null,
      "metadata": {
        "colab": {
          "base_uri": "https://localhost:8080/"
        },
        "id": "xnNXx9l7nefp",
        "outputId": "486902c3-3a47-493b-c915-3e287d434e00"
      },
      "outputs": [
        {
          "output_type": "stream",
          "name": "stdout",
          "text": [
            "Mounted at /content/drive\n"
          ]
        }
      ],
      "source": [
        "from google.colab import drive\n",
        "drive.mount('/content/drive')"
      ]
    },
    {
      "cell_type": "code",
      "execution_count": null,
      "metadata": {
        "colab": {
          "base_uri": "https://localhost:8080/",
          "height": 161
        },
        "id": "CDML6XBMnxys",
        "outputId": "883a83e3-8004-42be-8383-a1d5903ba70b"
      },
      "outputs": [
        {
          "output_type": "execute_result",
          "data": {
            "text/plain": [
              "Empty DataFrame\n",
              "Columns: [{\"cells\":[{\"cell_type\":\"code\", source:[\"import pandas as pd\\n\", import numpy as ny\\n, import seaborn as sns\\n, import matplotlib.pyplot as plt\\n, from sklearn.ensemble import RandomForestClassifier\\n, from sklearn.metrics import classification_report,confusion_matrix\\n, from sklearn.model_selection import train_test_split, GridSearchCV, cross_val_score\\n, from sklearn.preprocessing import StandardScaler, LabelEncoder\\n, %matplotlib inline\\n], metadata:{\"id\":\"Q6-c-A65wKiN\", executionInfo:{\"status\":\"ok\", timestamp:1663334067839, user_tz:-330, elapsed:1516, user:{\"displayName\":\"Sofiya Khan\", userId:\"06406791992384152748\"}}}, execution_count:1, outputs:[]}, {\"cell_type\":\"code\", execution_count:2, metadata:{\"colab\":{\"base_uri\":\"https://localhost:8080/\"}, executionInfo:{\"elapsed\":20719, status:\"ok\", timestamp:1663334088552, user:{\"displayName\":\"Sofiya Khan\".1, userId:\"06406791992384152748\"}, user_tz:-330}, id:\"xnNXx9l7nefp\", outputId:\"486902c3-3a47-493b-c915-3e287d434e00\"}, outputs:[{\"output_type\":\"stream\", name:\"stdout\", text:[\"Mounted at /content/drive\\n\"]}], source:[\"from google.colab import drive\\n\", drive.mount('/content/drive')]}, {\"cell_type\":\"code\".1, execution_count:4, metadata:{\"colab\":{\"base_uri\":\"https://localhost:8080/\", height:363}, executionInfo:{\"elapsed\":464, status:\"error\", timestamp:1663334181738, user:{\"displayName\":\"Sofiya Khan\".2, userId:\"06406791992384152748\"}.1, user_tz:-330}.1, id:\"CDML6XBMnxys\", outputId:\"98b1a5f5-2a18-46d1-8434-8553ef93aae3\"}, outputs:[{\"output_type\":\"error\", ename:\"FileNotFoundError\", evalue:\"ignored\", traceback:[\"\\u001b[0;31m---------------------------------------------------------------------------\\u001b[0m\", \\u001b[0;31mFileNotFoundError\\u001b[0m                         Traceback (most recent call last), \\u001b[0;32m<ipython-input-4-1ff7508e6fc8>\\u001b[0m in \\u001b[0;36m<module>\\u001b[0;34m\\u001b[0m\\n\\u001b[0;32m----> 1\\u001b[0;31m \\u001b[0mdf\\u001b[0m\\u001b[0;34m=\\u001b[0m\\u001b[0mpd\\u001b[0m\\u001b[0;34m.\\u001b[0m\\u001b[0mread_csv\\u001b[0m\\u001b[0;34m(\\u001b[0m\\u001b[0;34m\\/content/drive/MyDrive/seattle-weather.csv\\\"\\u001b[0m\\u001b[0;34m)\\u001b[0m\\u001b[0;34m\\u001b[0m\\u001b[0;34m\\u001b[0m\\u001b[0m\\n\\u001b[0m\\u001b[1;32m      2\\u001b[0m \\u001b[0mdf\\u001b[0m\\u001b[0;34m.\\u001b[0m\\u001b[0mhead\\u001b[0m\\u001b[0;34m(\\u001b[0m\\u001b[0;34m)\\u001b[0m\\u001b[0;34m\\u001b[0m\\u001b[0;34m\\u001b[0m\\u001b[0m\\n\", \\u001b[0;32m/usr/local/lib/python3.7/dist-packages/pandas/util/_decorators.py\\u001b[0m in \\u001b[0;36mwrapper\\u001b[0;34m(*args, **kwargs)\\u001b[0m\\n\\u001b[1;32m    309\\u001b[0m                     \\u001b[0mstacklevel\\u001b[0m\\u001b[0;34m=\\u001b[0m\\u001b[0mstacklevel\\u001b[0m\\u001b[0;34m,\\u001b[0m\\u001b[0;34m\\u001b[0m\\u001b[0;34m\\u001b[0m\\u001b[0m\\n\\u001b[1;32m    310\\u001b[0m                 )\\n\\u001b[0;32m--> 311\\u001b[0;31m             \\u001b[0;32mreturn\\u001b[0m \\u001b[0mfunc\\u001b[0m\\u001b[0;34m(\\u001b[0m\\u001b[0;34m*\\u001b[0m\\u001b[0margs\\u001b[0m\\u001b[0;34m,\\u001b[0m \\u001b[0;34m**\\u001b[0m\\u001b[0mkwargs\\u001b[0m\\u001b[0;34m)\\u001b[0m\\u001b[0;34m\\u001b[0m\\u001b[0;34m\\u001b[0m\\u001b[0m\\n\\u001b[0m\\u001b[1;32m    312\\u001b[0m \\u001b[0;34m\\u001b[0m\\u001b[0m\\n\\u001b[1;32m    313\\u001b[0m         \\u001b[0;32mreturn\\u001b[0m \\u001b[0mwrapper\\u001b[0m\\u001b[0;34m\\u001b[0m\\u001b[0;34m\\u001b[0m\\u001b[0m\\n, \\u001b[0;32m/usr/local/lib/python3.7/dist-packages/pandas/io/parsers/readers.py\\u001b[0m in \\u001b[0;36mread_csv\\u001b[0;34m(filepath_or_buffer, sep, delimiter, header, names, index_col, usecols, squeeze, prefix, mangle_dupe_cols, dtype, engine, converters, true_values, false_values, skipinitialspace, skiprows, skipfooter, nrows, na_values, keep_default_na, na_filter, verbose, skip_blank_lines, parse_dates, infer_datetime_format, keep_date_col, date_parser, dayfirst, cache_dates, iterator, chunksize, compression, thousands, decimal, lineterminator, quotechar, quoting, doublequote, escapechar, comment, encoding, encoding_errors, dialect, error_bad_lines, warn_bad_lines, on_bad_lines, delim_whitespace, low_memory, memory_map, float_precision, storage_options)\\u001b[0m\\n\\u001b[1;32m    584\\u001b[0m     \\u001b[0mkwds\\u001b[0m\\u001b[0;34m.\\u001b[0m\\u001b[0mupdate\\u001b[0m\\u001b[0;34m(\\u001b[0m\\u001b[0mkwds_defaults\\u001b[0m\\u001b[0;34m)\\u001b[0m\\u001b[0;34m\\u001b[0m\\u001b[0;34m\\u001b[0m\\u001b[0m\\n\\u001b[1;32m    585\\u001b[0m \\u001b[0;34m\\u001b[0m\\u001b[0m\\n\\u001b[0;32m--> 586\\u001b[0;31m     \\u001b[0;32mreturn\\u001b[0m \\u001b[0m_read\\u001b[0m\\u001b[0;34m(\\u001b[0m\\u001b[0mfilepath_or_buffer\\u001b[0m\\u001b[0;34m,\\u001b[0m \\u001b[0mkwds\\u001b[0m\\u001b[0;34m)\\u001b[0m\\u001b[0;34m\\u001b[0m\\u001b[0;34m\\u001b[0m\\u001b[0m\\n\\u001b[0m\\u001b[1;32m    587\\u001b[0m \\u001b[0;34m\\u001b[0m\\u001b[0m\\n\\u001b[1;32m    588\\u001b[0m \\u001b[0;34m\\u001b[0m\\u001b[0m\\n, \\u001b[0;32m/usr/local/lib/python3.7/dist-packages/pandas/io/parsers/readers.py\\u001b[0m in \\u001b[0;36m_read\\u001b[0;34m(filepath_or_buffer, kwds)\\u001b[0m\\n\\u001b[1;32m    480\\u001b[0m \\u001b[0;34m\\u001b[0m\\u001b[0m\\n\\u001b[1;32m    481\\u001b[0m     \\u001b[0;31m# Create the parser.\\u001b[0m\\u001b[0;34m\\u001b[0m\\u001b[0;34m\\u001b[0m\\u001b[0;34m\\u001b[0m\\u001b[0m\\n\\u001b[0;32m--> 482\\u001b[0;31m     \\u001b[0mparser\\u001b[0m \\u001b[0;34m=\\u001b[0m \\u001b[0mTextFileReader\\u001b[0m\\u001b[0;34m(\\u001b[0m\\u001b[0mfilepath_or_buffer\\u001b[0m\\u001b[0;34m,\\u001b[0m \\u001b[0;34m**\\u001b[0m\\u001b[0mkwds\\u001b[0m\\u001b[0;34m)\\u001b[0m\\u001b[0;34m\\u001b[0m\\u001b[0;34m\\u001b[0m\\u001b[0m\\n\\u001b[0m\\u001b[1;32m    483\\u001b[0m \\u001b[0;34m\\u001b[0m\\u001b[0m\\n\\u001b[1;32m    484\\u001b[0m     \\u001b[0;32mif\\u001b[0m \\u001b[0mchunksize\\u001b[0m \\u001b[0;32mor\\u001b[0m \\u001b[0miterator\\u001b[0m\\u001b[0;34m:\\u001b[0m\\u001b[0;34m\\u001b[0m\\u001b[0;34m\\u001b[0m\\u001b[0m\\n, \\u001b[0;32m/usr/local/lib/python3.7/dist-packages/pandas/io/parsers/readers.py\\u001b[0m in \\u001b[0;36m__init__\\u001b[0;34m(self, f, engine, **kwds)\\u001b[0m\\n\\u001b[1;32m    809\\u001b[0m             \\u001b[0mself\\u001b[0m\\u001b[0;34m.\\u001b[0m\\u001b[0moptions\\u001b[0m\\u001b[0;34m[\\u001b[0m\\u001b[0;34m\\has_index_names\\\"\\u001b[0m\\u001b[0;34m]\\u001b[0m \\u001b[0;34m=\\u001b[0m \\u001b[0mkwds\\u001b[0m\\u001b[0;34m[\\u001b[0m\\u001b[0;34m\\\"has_index_names\\\"\\u001b[0m\\u001b[0;34m]\\u001b[0m\\u001b[0;34m\\u001b[0m\\u001b[0;34m\\u001b[0m\\u001b[0m\\n\\u001b[1;32m    810\\u001b[0m \\u001b[0;34m\\u001b[0m\\u001b[0m\\n\\u001b[0;32m--> 811\\u001b[0;31m         \\u001b[0mself\\u001b[0m\\u001b[0;34m.\\u001b[0m\\u001b[0m_engine\\u001b[0m \\u001b[0;34m=\\u001b[0m \\u001b[0mself\\u001b[0m\\u001b[0;34m.\\u001b[0m\\u001b[0m_make_engine\\u001b[0m\\u001b[0;34m(\\u001b[0m\\u001b[0mself\\u001b[0m\\u001b[0;34m.\\u001b[0m\\u001b[0mengine\\u001b[0m\\u001b[0;34m)\\u001b[0m\\u001b[0;34m\\u001b[0m\\u001b[0;34m\\u001b[0m\\u001b[0m\\n\\u001b[0m\\u001b[1;32m    812\\u001b[0m \\u001b[0;34m\\u001b[0m\\u001b[0m\\n\\u001b[1;32m    813\\u001b[0m     \\u001b[0;32mdef\\u001b[0m \\u001b[0mclose\\u001b[0m\\u001b[0;34m(\\u001b[0m\\u001b[0mself\\u001b[0m\\u001b[0;34m)\\u001b[0m\\u001b[0;34m:\\u001b[0m\\u001b[0;34m\\u001b[0m\\u001b[0;34m\\u001b[0m\\u001b[0m\\n\", \\u001b[0;32m/usr/local/lib/python3.7/dist-packages/pandas/io/parsers/readers.py\\u001b[0m in \\u001b[0;36m_make_engine\\u001b[0;34m(self, engine)\\u001b[0m\\n\\u001b[1;32m   1038\\u001b[0m             )\\n\\u001b[1;32m   1039\\u001b[0m         \\u001b[0;31m# error: Too many arguments for \\ParserBase\\\"\\u001b[0m\\u001b[0;34m\\u001b[0m\\u001b[0;34m\\u001b[0m\\u001b[0;34m\\u001b[0m\\u001b[0m\\n\\u001b[0;32m-> 1040\\u001b[0;31m         \\u001b[0;32mreturn\\u001b[0m \\u001b[0mmapping\\u001b[0m\\u001b[0;34m[\\u001b[0m\\u001b[0mengine\\u001b[0m\\u001b[0;34m]\\u001b[0m\\u001b[0;34m(\\u001b[0m\\u001b[0mself\\u001b[0m\\u001b[0;34m.\\u001b[0m\\u001b[0mf\\u001b[0m\\u001b[0;34m, \\u001b[0m \\u001b[0;34m**\\u001b[0m\\u001b[0mself\\u001b[0m\\u001b[0;34m.\\u001b[0m\\u001b[0moptions\\u001b[0m\\u001b[0;34m)\\u001b[0m  \\u001b[0;31m# type: ignore[call-arg]\\u001b[0m\\u001b[0;34m\\u001b[0m\\u001b[0;34m\\u001b[0m\\u001b[0m\\n\\u001b[0m\\u001b[1;32m   1041\\u001b[0m \\u001b[0;34m\\u001b[0m\\u001b[0m\\n\\u001b[1;32m   1042\\u001b[0m     \\u001b[0;32mdef\\u001b[0m \\u001b[0m_failover_to_python\\u001b[0m\\u001b[0;34m(\\u001b[0m\\u001b[0mself\\u001b[0m\\u001b[0;34m)\\u001b[0m\\u001b[0;34m:\\u001b[0m\\u001b[0;34m\\u001b[0m\\u001b[0;34m\\u001b[0m\\u001b[0m\\n\", \\u001b[0;32m/usr/local/lib/python3.7/dist-packages/pandas/io/parsers/c_parser_wrapper.py\\u001b[0m in \\u001b[0;36m__init__\\u001b[0;34m(self, src, **kwds)\\u001b[0m\\n\\u001b[1;32m     49\\u001b[0m \\u001b[0;34m\\u001b[0m\\u001b[0m\\n\\u001b[1;32m     50\\u001b[0m         \\u001b[0;31m# open handles\\u001b[0m\\u001b[0;34m\\u001b[0m\\u001b[0;34m\\u001b[0m\\u001b[0;34m\\u001b[0m\\u001b[0m\\n\\u001b[0;32m---> 51\\u001b[0;31m         \\u001b[0mself\\u001b[0m\\u001b[0;34m.\\u001b[0m\\u001b[0m_open_handles\\u001b[0m\\u001b[0;34m(\\u001b[0m\\u001b[0msrc\\u001b[0m\\u001b[0;34m,\\u001b[0m \\u001b[0mkwds\\u001b[0m\\u001b[0;34m)\\u001b[0m\\u001b[0;34m\\u001b[0m\\u001b[0;34m\\u001b[0m\\u001b[0m\\n\\u001b[0m\\u001b[1;32m     52\\u001b[0m         \\u001b[0;32massert\\u001b[0m \\u001b[0mself\\u001b[0m\\u001b[0;34m.\\u001b[0m\\u001b[0mhandles\\u001b[0m \\u001b[0;32mis\\u001b[0m \\u001b[0;32mnot\\u001b[0m \\u001b[0;32mNone\\u001b[0m\\u001b[0;34m\\u001b[0m\\u001b[0;34m\\u001b[0m\\u001b[0m\\n\\u001b[1;32m     53\\u001b[0m \\u001b[0;34m\\u001b[0m\\u001b[0m\\n, \\u001b[0;32m/usr/local/lib/python3.7/dist-packages/pandas/io/parsers/base_parser.py\\u001b[0m in \\u001b[0;36m_open_handles\\u001b[0;34m(self, src, kwds)\\u001b[0m\\n\\u001b[1;32m    227\\u001b[0m             \\u001b[0mmemory_map\\u001b[0m\\u001b[0;34m=\\u001b[0m\\u001b[0mkwds\\u001b[0m\\u001b[0;34m.\\u001b[0m\\u001b[0mget\\u001b[0m\\u001b[0;34m(\\u001b[0m\\u001b[0;34m\\memory_map\\\"\\u001b[0m\\u001b[0;34m, \\u001b[0m \\u001b[0;32mFalse\\u001b[0m\\u001b[0;34m)\\u001b[0m\\u001b[0;34m, \\u001b[0m\\u001b[0;34m\\u001b[0m\\u001b[0;34m\\u001b[0m\\u001b[0m\\n\\u001b[1;32m    228\\u001b[0m             \\u001b[0mstorage_options\\u001b[0m\\u001b[0;34m=\\u001b[0m\\u001b[0mkwds\\u001b[0m\\u001b[0;34m.\\u001b[0m\\u001b[0mget\\u001b[0m\\u001b[0;34m(\\u001b[0m\\u001b[0;34m\\\"storage_options\\\"\\u001b[0m\\u001b[0;34m, \\u001b[0m \\u001b[0;32mNone\\u001b[0m\\u001b[0;34m)\\u001b[0m\\u001b[0;34m, \\u001b[0m\\u001b[0;34m\\u001b[0m\\u001b[0;34m\\u001b[0m\\u001b[0m\\n\\u001b[0;32m--> 229\\u001b[0;31m             \\u001b[0merrors\\u001b[0m\\u001b[0;34m=\\u001b[0m\\u001b[0mkwds\\u001b[0m\\u001b[0;34m.\\u001b[0m\\u001b[0mget\\u001b[0m\\u001b[0;34m(\\u001b[0m\\u001b[0;34m\\\"encoding_errors\\\"\\u001b[0m\\u001b[0;34m, \\u001b[0m \\u001b[0;34m\\\"strict\\\"\\u001b[0m\\u001b[0;34m)\\u001b[0m\\u001b[0;34m, \\u001b[0m\\u001b[0;34m\\u001b[0m\\u001b[0;34m\\u001b[0m\\u001b[0m\\n\\u001b[0m\\u001b[1;32m    230\\u001b[0m         )\\n\\u001b[1;32m    231\\u001b[0m \\u001b[0;34m\\u001b[0m\\u001b[0m\\n\", \\u001b[0;32m/usr/local/lib/python3.7/dist-packages/pandas/io/common.py\\u001b[0m in \\u001b[0;36mget_handle\\u001b[0;34m(path_or_buf, mode, encoding, compression, memory_map, is_text, errors, storage_options)\\u001b[0m\\n\\u001b[1;32m    705\\u001b[0m                 \\u001b[0mencoding\\u001b[0m\\u001b[0;34m=\\u001b[0m\\u001b[0mioargs\\u001b[0m\\u001b[0;34m.\\u001b[0m\\u001b[0mencoding\\u001b[0m\\u001b[0;34m,\\u001b[0m\\u001b[0;34m\\u001b[0m\\u001b[0;34m\\u001b[0m\\u001b[0m\\n\\u001b[1;32m    706\\u001b[0m                 \\u001b[0merrors\\u001b[0m\\u001b[0;34m=\\u001b[0m\\u001b[0merrors\\u001b[0m\\u001b[0;34m,\\u001b[0m\\u001b[0;34m\\u001b[0m\\u001b[0;34m\\u001b[0m\\u001b[0m\\n\\u001b[0;32m--> 707\\u001b[0;31m                 \\u001b[0mnewline\\u001b[0m\\u001b[0;34m=\\u001b[0m\\u001b[0;34m\\\\\"\\u001b[0m\\u001b[0;34m, \\u001b[0m\\u001b[0;34m\\u001b[0m\\u001b[0;34m\\u001b[0m\\u001b[0m\\n\\u001b[0m\\u001b[1;32m    708\\u001b[0m             )\\n\\u001b[1;32m    709\\u001b[0m         \\u001b[0;32melse\\u001b[0m\\u001b[0;34m:\\u001b[0m\\u001b[0;34m\\u001b[0m\\u001b[0;34m\\u001b[0m\\u001b[0m\\n\", \\u001b[0;31mFileNotFoundError\\u001b[0m: [Errno 2] No such file or directory: '/content/drive/MyDrive/seattle-weather.csv']}], source:[\"#df=pd.read_csv(\\\"/content/drive/MyDrive/seattle-weather.csv\\\")\\n\", df=pd.read_csv(\\/content/drive/MyDrive/seattle-weather.csv\\\")\\n\", df.head()]}, {\"cell_type\":\"code\".2, source:[\"df.isnull().sum()\"], metadata:{\"id\":\"vhD23vMy8XqV\", executionInfo:{\"status\":\"aborted\", timestamp:1663334088554, user_tz:-330.1, elapsed:11, user:{\"displayName\":\"Sofiya Khan\".3, userId:\"06406791992384152748\"}}}.1, execution_count:null, outputs:[]}.1, {\"cell_type\":\"code\".3, source:[\"fig,  ax = plt.subplots(figsize=(20,  8))\\n\", sns.barplot(x='weather',y='precipitation',data=df,ax=ax)], metadata:{\"id\":\"IXhNQnRd81QY\", executionInfo:{\"status\":\"aborted\".1, timestamp:1663334088555, user_tz:-330.2, elapsed:12, user:{\"displayName\":\"Sofiya Khan\".4, userId:\"06406791992384152748\"}}}.2, execution_count:null.1, outputs:[]}.2, {\"cell_type\":\"code\".4, source:[\"fig.1, ...]\n",
              "Index: []\n",
              "\n",
              "[0 rows x 239 columns]"
            ],
            "text/html": [
              "\n",
              "  <div id=\"df-edc10641-fc1a-4d65-a7dc-e93f0030e250\">\n",
              "    <div class=\"colab-df-container\">\n",
              "      <div>\n",
              "<style scoped>\n",
              "    .dataframe tbody tr th:only-of-type {\n",
              "        vertical-align: middle;\n",
              "    }\n",
              "\n",
              "    .dataframe tbody tr th {\n",
              "        vertical-align: top;\n",
              "    }\n",
              "\n",
              "    .dataframe thead th {\n",
              "        text-align: right;\n",
              "    }\n",
              "</style>\n",
              "<table border=\"1\" class=\"dataframe\">\n",
              "  <thead>\n",
              "    <tr style=\"text-align: right;\">\n",
              "      <th></th>\n",
              "      <th>{\"cells\":[{\"cell_type\":\"code\"</th>\n",
              "      <th>source:[\"import pandas as pd\\n\"</th>\n",
              "      <th>import numpy as ny\\n</th>\n",
              "      <th>import seaborn as sns\\n</th>\n",
              "      <th>import matplotlib.pyplot as plt\\n</th>\n",
              "      <th>from sklearn.ensemble import RandomForestClassifier\\n</th>\n",
              "      <th>from sklearn.metrics import classification_report,confusion_matrix\\n</th>\n",
              "      <th>from sklearn.model_selection import train_test_split, GridSearchCV, cross_val_score\\n</th>\n",
              "      <th>from sklearn.preprocessing import StandardScaler, LabelEncoder\\n</th>\n",
              "      <th>%matplotlib inline\\n]</th>\n",
              "      <th>...</th>\n",
              "      <th>execution_count:null.11</th>\n",
              "      <th>outputs:[]}]</th>\n",
              "      <th>metadata:{\"colab\":{\"provenance\":[]</th>\n",
              "      <th>collapsed_sections:[]</th>\n",
              "      <th>authorship_tag:\"ABX9TyPCUQTIPkUMM/h0lItbvJxq\"}</th>\n",
              "      <th>kernelspec:{\"display_name\":\"Python 3\"</th>\n",
              "      <th>name:\"python3\"}</th>\n",
              "      <th>language_info:{\"name\":\"python\"}}</th>\n",
              "      <th>nbformat:4</th>\n",
              "      <th>nbformat_minor:0}</th>\n",
              "    </tr>\n",
              "  </thead>\n",
              "  <tbody>\n",
              "  </tbody>\n",
              "</table>\n",
              "<p>0 rows × 239 columns</p>\n",
              "</div>\n",
              "      <button class=\"colab-df-convert\" onclick=\"convertToInteractive('df-edc10641-fc1a-4d65-a7dc-e93f0030e250')\"\n",
              "              title=\"Convert this dataframe to an interactive table.\"\n",
              "              style=\"display:none;\">\n",
              "        \n",
              "  <svg xmlns=\"http://www.w3.org/2000/svg\" height=\"24px\"viewBox=\"0 0 24 24\"\n",
              "       width=\"24px\">\n",
              "    <path d=\"M0 0h24v24H0V0z\" fill=\"none\"/>\n",
              "    <path d=\"M18.56 5.44l.94 2.06.94-2.06 2.06-.94-2.06-.94-.94-2.06-.94 2.06-2.06.94zm-11 1L8.5 8.5l.94-2.06 2.06-.94-2.06-.94L8.5 2.5l-.94 2.06-2.06.94zm10 10l.94 2.06.94-2.06 2.06-.94-2.06-.94-.94-2.06-.94 2.06-2.06.94z\"/><path d=\"M17.41 7.96l-1.37-1.37c-.4-.4-.92-.59-1.43-.59-.52 0-1.04.2-1.43.59L10.3 9.45l-7.72 7.72c-.78.78-.78 2.05 0 2.83L4 21.41c.39.39.9.59 1.41.59.51 0 1.02-.2 1.41-.59l7.78-7.78 2.81-2.81c.8-.78.8-2.07 0-2.86zM5.41 20L4 18.59l7.72-7.72 1.47 1.35L5.41 20z\"/>\n",
              "  </svg>\n",
              "      </button>\n",
              "      \n",
              "  <style>\n",
              "    .colab-df-container {\n",
              "      display:flex;\n",
              "      flex-wrap:wrap;\n",
              "      gap: 12px;\n",
              "    }\n",
              "\n",
              "    .colab-df-convert {\n",
              "      background-color: #E8F0FE;\n",
              "      border: none;\n",
              "      border-radius: 50%;\n",
              "      cursor: pointer;\n",
              "      display: none;\n",
              "      fill: #1967D2;\n",
              "      height: 32px;\n",
              "      padding: 0 0 0 0;\n",
              "      width: 32px;\n",
              "    }\n",
              "\n",
              "    .colab-df-convert:hover {\n",
              "      background-color: #E2EBFA;\n",
              "      box-shadow: 0px 1px 2px rgba(60, 64, 67, 0.3), 0px 1px 3px 1px rgba(60, 64, 67, 0.15);\n",
              "      fill: #174EA6;\n",
              "    }\n",
              "\n",
              "    [theme=dark] .colab-df-convert {\n",
              "      background-color: #3B4455;\n",
              "      fill: #D2E3FC;\n",
              "    }\n",
              "\n",
              "    [theme=dark] .colab-df-convert:hover {\n",
              "      background-color: #434B5C;\n",
              "      box-shadow: 0px 1px 3px 1px rgba(0, 0, 0, 0.15);\n",
              "      filter: drop-shadow(0px 1px 2px rgba(0, 0, 0, 0.3));\n",
              "      fill: #FFFFFF;\n",
              "    }\n",
              "  </style>\n",
              "\n",
              "      <script>\n",
              "        const buttonEl =\n",
              "          document.querySelector('#df-edc10641-fc1a-4d65-a7dc-e93f0030e250 button.colab-df-convert');\n",
              "        buttonEl.style.display =\n",
              "          google.colab.kernel.accessAllowed ? 'block' : 'none';\n",
              "\n",
              "        async function convertToInteractive(key) {\n",
              "          const element = document.querySelector('#df-edc10641-fc1a-4d65-a7dc-e93f0030e250');\n",
              "          const dataTable =\n",
              "            await google.colab.kernel.invokeFunction('convertToInteractive',\n",
              "                                                     [key], {});\n",
              "          if (!dataTable) return;\n",
              "\n",
              "          const docLinkHtml = 'Like what you see? Visit the ' +\n",
              "            '<a target=\"_blank\" href=https://colab.research.google.com/notebooks/data_table.ipynb>data table notebook</a>'\n",
              "            + ' to learn more about interactive tables.';\n",
              "          element.innerHTML = '';\n",
              "          dataTable['output_type'] = 'display_data';\n",
              "          await google.colab.output.renderOutput(dataTable, element);\n",
              "          const docLink = document.createElement('div');\n",
              "          docLink.innerHTML = docLinkHtml;\n",
              "          element.appendChild(docLink);\n",
              "        }\n",
              "      </script>\n",
              "    </div>\n",
              "  </div>\n",
              "  "
            ]
          },
          "metadata": {},
          "execution_count": 6
        },
        {
          "output_type": "stream",
          "name": "stdout",
          "text": [
            "Warning: Total number of columns (239) exceeds max_columns (20) limiting to first (20) columns.\n"
          ]
        }
      ],
      "source": [
        "df=pd.read_csv(\"/content/drive/MyDrive/seattle-weather.csv\")\n",
        "#df=pd.read_csv(\"/content/drive/MyDrive/Colab Notebooks/weather_prediction\")\n",
        "df.head()"
      ]
    },
    {
      "cell_type": "code",
      "source": [
        "df.isnull().sum()"
      ],
      "metadata": {
        "colab": {
          "base_uri": "https://localhost:8080/"
        },
        "id": "vhD23vMy8XqV",
        "outputId": "5e77d1cb-4447-4960-c879-452f945b3efb"
      },
      "execution_count": null,
      "outputs": [
        {
          "output_type": "execute_result",
          "data": {
            "text/plain": [
              "{\"cells\":[{\"cell_type\":\"code\"            0.0\n",
              "source:[\"import pandas as pd\\n\"          0.0\n",
              "import numpy as ny\\n                     0.0\n",
              "import seaborn as sns\\n                  0.0\n",
              "import matplotlib.pyplot as plt\\n        0.0\n",
              "                                        ... \n",
              "kernelspec:{\"display_name\":\"Python 3\"    0.0\n",
              "name:\"python3\"}                          0.0\n",
              "language_info:{\"name\":\"python\"}}         0.0\n",
              "nbformat:4                               0.0\n",
              "nbformat_minor:0}                        0.0\n",
              "Length: 239, dtype: float64"
            ]
          },
          "metadata": {},
          "execution_count": 7
        }
      ]
    },
    {
      "cell_type": "code",
      "source": [
        "fig, ax = plt.subplots(figsize=(20, 8))\n",
        "sns.barplot(x='weather',y='precipitation',data=df,ax=ax)"
      ],
      "metadata": {
        "colab": {
          "base_uri": "https://localhost:8080/",
          "height": 616
        },
        "id": "IXhNQnRd81QY",
        "outputId": "bbdf9c2c-d110-4bda-93c9-9a5e406e7fbc"
      },
      "execution_count": null,
      "outputs": [
        {
          "output_type": "error",
          "ename": "ValueError",
          "evalue": "ignored",
          "traceback": [
            "\u001b[0;31m---------------------------------------------------------------------------\u001b[0m",
            "\u001b[0;31mValueError\u001b[0m                                Traceback (most recent call last)",
            "\u001b[0;32m<ipython-input-8-af713b21491e>\u001b[0m in \u001b[0;36m<module>\u001b[0;34m\u001b[0m\n\u001b[1;32m      1\u001b[0m \u001b[0mfig\u001b[0m\u001b[0;34m,\u001b[0m \u001b[0max\u001b[0m \u001b[0;34m=\u001b[0m \u001b[0mplt\u001b[0m\u001b[0;34m.\u001b[0m\u001b[0msubplots\u001b[0m\u001b[0;34m(\u001b[0m\u001b[0mfigsize\u001b[0m\u001b[0;34m=\u001b[0m\u001b[0;34m(\u001b[0m\u001b[0;36m20\u001b[0m\u001b[0;34m,\u001b[0m \u001b[0;36m8\u001b[0m\u001b[0;34m)\u001b[0m\u001b[0;34m)\u001b[0m\u001b[0;34m\u001b[0m\u001b[0;34m\u001b[0m\u001b[0m\n\u001b[0;32m----> 2\u001b[0;31m \u001b[0msns\u001b[0m\u001b[0;34m.\u001b[0m\u001b[0mbarplot\u001b[0m\u001b[0;34m(\u001b[0m\u001b[0mx\u001b[0m\u001b[0;34m=\u001b[0m\u001b[0;34m'weather'\u001b[0m\u001b[0;34m,\u001b[0m\u001b[0my\u001b[0m\u001b[0;34m=\u001b[0m\u001b[0;34m'precipitation'\u001b[0m\u001b[0;34m,\u001b[0m\u001b[0mdata\u001b[0m\u001b[0;34m=\u001b[0m\u001b[0mdf\u001b[0m\u001b[0;34m,\u001b[0m\u001b[0max\u001b[0m\u001b[0;34m=\u001b[0m\u001b[0max\u001b[0m\u001b[0;34m)\u001b[0m\u001b[0;34m\u001b[0m\u001b[0;34m\u001b[0m\u001b[0m\n\u001b[0m",
            "\u001b[0;32m/usr/local/lib/python3.7/dist-packages/seaborn/_decorators.py\u001b[0m in \u001b[0;36minner_f\u001b[0;34m(*args, **kwargs)\u001b[0m\n\u001b[1;32m     44\u001b[0m             )\n\u001b[1;32m     45\u001b[0m         \u001b[0mkwargs\u001b[0m\u001b[0;34m.\u001b[0m\u001b[0mupdate\u001b[0m\u001b[0;34m(\u001b[0m\u001b[0;34m{\u001b[0m\u001b[0mk\u001b[0m\u001b[0;34m:\u001b[0m \u001b[0marg\u001b[0m \u001b[0;32mfor\u001b[0m \u001b[0mk\u001b[0m\u001b[0;34m,\u001b[0m \u001b[0marg\u001b[0m \u001b[0;32min\u001b[0m \u001b[0mzip\u001b[0m\u001b[0;34m(\u001b[0m\u001b[0msig\u001b[0m\u001b[0;34m.\u001b[0m\u001b[0mparameters\u001b[0m\u001b[0;34m,\u001b[0m \u001b[0margs\u001b[0m\u001b[0;34m)\u001b[0m\u001b[0;34m}\u001b[0m\u001b[0;34m)\u001b[0m\u001b[0;34m\u001b[0m\u001b[0;34m\u001b[0m\u001b[0m\n\u001b[0;32m---> 46\u001b[0;31m         \u001b[0;32mreturn\u001b[0m \u001b[0mf\u001b[0m\u001b[0;34m(\u001b[0m\u001b[0;34m**\u001b[0m\u001b[0mkwargs\u001b[0m\u001b[0;34m)\u001b[0m\u001b[0;34m\u001b[0m\u001b[0;34m\u001b[0m\u001b[0m\n\u001b[0m\u001b[1;32m     47\u001b[0m     \u001b[0;32mreturn\u001b[0m \u001b[0minner_f\u001b[0m\u001b[0;34m\u001b[0m\u001b[0;34m\u001b[0m\u001b[0m\n\u001b[1;32m     48\u001b[0m \u001b[0;34m\u001b[0m\u001b[0m\n",
            "\u001b[0;32m/usr/local/lib/python3.7/dist-packages/seaborn/categorical.py\u001b[0m in \u001b[0;36mbarplot\u001b[0;34m(x, y, hue, data, order, hue_order, estimator, ci, n_boot, units, seed, orient, color, palette, saturation, errcolor, errwidth, capsize, dodge, ax, **kwargs)\u001b[0m\n\u001b[1;32m   3183\u001b[0m                           \u001b[0mestimator\u001b[0m\u001b[0;34m,\u001b[0m \u001b[0mci\u001b[0m\u001b[0;34m,\u001b[0m \u001b[0mn_boot\u001b[0m\u001b[0;34m,\u001b[0m \u001b[0munits\u001b[0m\u001b[0;34m,\u001b[0m \u001b[0mseed\u001b[0m\u001b[0;34m,\u001b[0m\u001b[0;34m\u001b[0m\u001b[0;34m\u001b[0m\u001b[0m\n\u001b[1;32m   3184\u001b[0m                           \u001b[0morient\u001b[0m\u001b[0;34m,\u001b[0m \u001b[0mcolor\u001b[0m\u001b[0;34m,\u001b[0m \u001b[0mpalette\u001b[0m\u001b[0;34m,\u001b[0m \u001b[0msaturation\u001b[0m\u001b[0;34m,\u001b[0m\u001b[0;34m\u001b[0m\u001b[0;34m\u001b[0m\u001b[0m\n\u001b[0;32m-> 3185\u001b[0;31m                           errcolor, errwidth, capsize, dodge)\n\u001b[0m\u001b[1;32m   3186\u001b[0m \u001b[0;34m\u001b[0m\u001b[0m\n\u001b[1;32m   3187\u001b[0m     \u001b[0;32mif\u001b[0m \u001b[0max\u001b[0m \u001b[0;32mis\u001b[0m \u001b[0;32mNone\u001b[0m\u001b[0;34m:\u001b[0m\u001b[0;34m\u001b[0m\u001b[0;34m\u001b[0m\u001b[0m\n",
            "\u001b[0;32m/usr/local/lib/python3.7/dist-packages/seaborn/categorical.py\u001b[0m in \u001b[0;36m__init__\u001b[0;34m(self, x, y, hue, data, order, hue_order, estimator, ci, n_boot, units, seed, orient, color, palette, saturation, errcolor, errwidth, capsize, dodge)\u001b[0m\n\u001b[1;32m   1583\u001b[0m         \u001b[0;34m\"\"\"Initialize the plotter.\"\"\"\u001b[0m\u001b[0;34m\u001b[0m\u001b[0;34m\u001b[0m\u001b[0m\n\u001b[1;32m   1584\u001b[0m         self.establish_variables(x, y, hue, data, orient,\n\u001b[0;32m-> 1585\u001b[0;31m                                  order, hue_order, units)\n\u001b[0m\u001b[1;32m   1586\u001b[0m         \u001b[0mself\u001b[0m\u001b[0;34m.\u001b[0m\u001b[0mestablish_colors\u001b[0m\u001b[0;34m(\u001b[0m\u001b[0mcolor\u001b[0m\u001b[0;34m,\u001b[0m \u001b[0mpalette\u001b[0m\u001b[0;34m,\u001b[0m \u001b[0msaturation\u001b[0m\u001b[0;34m)\u001b[0m\u001b[0;34m\u001b[0m\u001b[0;34m\u001b[0m\u001b[0m\n\u001b[1;32m   1587\u001b[0m         \u001b[0mself\u001b[0m\u001b[0;34m.\u001b[0m\u001b[0mestimate_statistic\u001b[0m\u001b[0;34m(\u001b[0m\u001b[0mestimator\u001b[0m\u001b[0;34m,\u001b[0m \u001b[0mci\u001b[0m\u001b[0;34m,\u001b[0m \u001b[0mn_boot\u001b[0m\u001b[0;34m,\u001b[0m \u001b[0mseed\u001b[0m\u001b[0;34m)\u001b[0m\u001b[0;34m\u001b[0m\u001b[0;34m\u001b[0m\u001b[0m\n",
            "\u001b[0;32m/usr/local/lib/python3.7/dist-packages/seaborn/categorical.py\u001b[0m in \u001b[0;36mestablish_variables\u001b[0;34m(self, x, y, hue, data, orient, order, hue_order, units)\u001b[0m\n\u001b[1;32m    151\u001b[0m                 \u001b[0;32mif\u001b[0m \u001b[0misinstance\u001b[0m\u001b[0;34m(\u001b[0m\u001b[0mvar\u001b[0m\u001b[0;34m,\u001b[0m \u001b[0mstr\u001b[0m\u001b[0;34m)\u001b[0m\u001b[0;34m:\u001b[0m\u001b[0;34m\u001b[0m\u001b[0;34m\u001b[0m\u001b[0m\n\u001b[1;32m    152\u001b[0m                     \u001b[0merr\u001b[0m \u001b[0;34m=\u001b[0m \u001b[0;34m\"Could not interpret input '{}'\"\u001b[0m\u001b[0;34m.\u001b[0m\u001b[0mformat\u001b[0m\u001b[0;34m(\u001b[0m\u001b[0mvar\u001b[0m\u001b[0;34m)\u001b[0m\u001b[0;34m\u001b[0m\u001b[0;34m\u001b[0m\u001b[0m\n\u001b[0;32m--> 153\u001b[0;31m                     \u001b[0;32mraise\u001b[0m \u001b[0mValueError\u001b[0m\u001b[0;34m(\u001b[0m\u001b[0merr\u001b[0m\u001b[0;34m)\u001b[0m\u001b[0;34m\u001b[0m\u001b[0;34m\u001b[0m\u001b[0m\n\u001b[0m\u001b[1;32m    154\u001b[0m \u001b[0;34m\u001b[0m\u001b[0m\n\u001b[1;32m    155\u001b[0m             \u001b[0;31m# Figure out the plotting orientation\u001b[0m\u001b[0;34m\u001b[0m\u001b[0;34m\u001b[0m\u001b[0;34m\u001b[0m\u001b[0m\n",
            "\u001b[0;31mValueError\u001b[0m: Could not interpret input 'weather'"
          ]
        },
        {
          "output_type": "display_data",
          "data": {
            "text/plain": [
              "<Figure size 1440x576 with 1 Axes>"
            ],
            "image/png": "[encoded data removed]"
          },
          "metadata": {
            "needs_background": "light"
          }
        }
      ]
    },
    {
      "cell_type": "code",
      "source": [
        "fig, ax = plt.subplots(figsize=(20, 8))\n",
        "sns.barplot(x='weather',y='temp_max',data=df,ax=ax)"
      ],
      "metadata": {
        "id": "0h3IQWUo89Qn"
      },
      "execution_count": null,
      "outputs": []
    },
    {
      "cell_type": "code",
      "source": [
        "fig, ax = plt.subplots(figsize=(20, 8))\n",
        "sns.barplot(x='weather',y='temp_min',data=df,ax=ax)"
      ],
      "metadata": {
        "id": "CKwuD1FZ9FDB"
      },
      "execution_count": null,
      "outputs": []
    },
    {
      "cell_type": "code",
      "source": [
        "l = LabelEncoder()\n",
        "df['weather']=l.fit_transform(df['weather'])\n",
        "df['weather']"
      ],
      "metadata": {
        "id": "rbfRHPHR9KRc"
      },
      "execution_count": null,
      "outputs": []
    },
    {
      "cell_type": "code",
      "source": [
        "df['weather'].value_counts()"
      ],
      "metadata": {
        "id": "BCFgUzFy9cYg"
      },
      "execution_count": null,
      "outputs": []
    },
    {
      "cell_type": "code",
      "source": [
        "x=df.drop(['date','weather'],axis=1)\n",
        "y=df['weather']\n",
        "xtrain,xtest,ytrain,ytest=train_test_split(x,y,test_size=0.2,random_state=42)"
      ],
      "metadata": {
        "id": "uLGnx0yJ-Zcf"
      },
      "execution_count": null,
      "outputs": []
    },
    {
      "cell_type": "code",
      "source": [
        "sc=StandardScaler()\n",
        "xtrain=sc.fit_transform(xtrain)\n",
        "xtest=sc.fit_transform(xtest)"
      ],
      "metadata": {
        "id": "dTPuOjyWDTJH"
      },
      "execution_count": null,
      "outputs": []
    },
    {
      "cell_type": "code",
      "source": [
        "rfc = RandomForestClassifier(n_estimators=200)\n",
        "rfc.fit(xtrain,ytrain)\n",
        "rfc.score(xtest,ytest)"
      ],
      "metadata": {
        "id": "DXq3wyDA9oFT"
      },
      "execution_count": null,
      "outputs": []
    },
    {
      "cell_type": "code",
      "source": [
        "rfc2 = cross_val_score(estimator = rfc, X = xtrain, y = ytrain, cv = 10)\n",
        "rfc2.mean()"
      ],
      "metadata": {
        "id": "3O1jiSwbDexb"
      },
      "execution_count": null,
      "outputs": []
    },
    {
      "cell_type": "code",
      "source": [
        "yp = rfc.predict(xtest)\n",
        "c=confusion_matrix(ytest,yp)\n",
        "fig, ax = plt.subplots(figsize=(20, 8))\n",
        "sns.heatmap(c,ax=ax)"
      ],
      "metadata": {
        "id": "wBfIgXTvDirh"
      },
      "execution_count": null,
      "outputs": []
    },
    {
      "cell_type": "code",
      "source": [
        "c"
      ],
      "metadata": {
        "id": "c7nOp8k0Dlq1"
      },
      "execution_count": null,
      "outputs": []
    }
  ],
  "metadata": {
    "colab": {
      "provenance": []
    },
    "kernelspec": {
      "display_name": "Python 3",
      "name": "python3"
    },
    "language_info": {
      "name": "python"
    }
  },
  "nbformat": 4,
  "nbformat_minor": 0
}